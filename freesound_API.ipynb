{
 "cells": [
  {
   "cell_type": "markdown",
   "metadata": {},
   "source": [
    "# Intro\n",
    "This notebook shows how to use the freesound API to retrieve sounds to use in ML models. This notebook assumes you have followed the instructions in the github repo to set up an account with freesound and have updated the fs_config.py file with your id and secret"
   ]
  },
  {
   "cell_type": "markdown",
   "metadata": {},
   "source": [
    "Import the required packages"
   ]
  },
  {
   "cell_type": "code",
   "execution_count": 1,
   "metadata": {},
   "outputs": [],
   "source": [
    "import freesound\n",
    "from requests_oauthlib import OAuth2Session\n",
    "import os\n",
    "import time\n",
    "import pickle\n",
    "from requests_ratelimiter import LimiterSession\n",
    "\n",
    "import fs_config"
   ]
  },
  {
   "cell_type": "markdown",
   "metadata": {},
   "source": [
    "Set configuration variables using fs_config.py"
   ]
  },
  {
   "cell_type": "markdown",
   "metadata": {},
   "source": [
    "# Authenticate"
   ]
  },
  {
   "cell_type": "code",
   "execution_count": 2,
   "metadata": {},
   "outputs": [],
   "source": [
    "\n",
    "\n",
    "authorization_base_url = 'https://freesound.org/apiv2/oauth2/authorize/'\n",
    "token_url = 'https://freesound.org/apiv2/oauth2/access_token/'\n",
    "client_id = fs_config.fs_cid # grab from fs_config.py\n",
    "client_secret = fs_config.fs_client_secret # grab from fs_config.py"
   ]
  },
  {
   "cell_type": "markdown",
   "metadata": {},
   "source": [
    "Authenticate\n",
    "The code below will open a link in your browser. You must authorize, and then copy the code into the python input window to continue"
   ]
  },
  {
   "cell_type": "code",
   "execution_count": 3,
   "metadata": {},
   "outputs": [
    {
     "name": "stdout",
     "output_type": "stream",
     "text": [
      "Please go to https://freesound.org/apiv2/oauth2/authorize/?response_type=code&client_id=7yB3RiAb8ipn6BQuwvyn&state=1OHqd6cpSdXreNlW69xQ9om4Z8do0f and authorize access.\n"
     ]
    }
   ],
   "source": [
    "# do the OAuth dance\n",
    "oauth = OAuth2Session(client_id)\n",
    "\n",
    "authorization_url, state = oauth.authorization_url(\n",
    "    \"https://freesound.org/apiv2/oauth2/authorize/\"\n",
    ")\n",
    "print(f\"Please go to {authorization_url} and authorize access.\")\n",
    "\n",
    "authorization_code = input(\"Please enter the authorization code:\")\n",
    "oauth_token = oauth.fetch_token(\n",
    "    \"https://freesound.org/apiv2/oauth2/access_token/\",\n",
    "    authorization_code,\n",
    "    client_secret=client_secret,\n",
    ")\n",
    "\n",
    "# oauth_token\n",
    "client = freesound.FreesoundClient()\n",
    "client.set_token(oauth_token[\"access_token\"], \"oauth\")"
   ]
  },
  {
   "cell_type": "markdown",
   "metadata": {},
   "source": [
    "Example of how to get a sound using the API"
   ]
  },
  {
   "cell_type": "code",
   "execution_count": 4,
   "metadata": {},
   "outputs": [
    {
     "name": "stdout",
     "output_type": "stream",
     "text": [
      "Sound info:\n",
      "-----------\n",
      "Getting sound: coming soon.wav\n",
      "Url: https://freesound.org/people/tim.kahn/sounds/96541/\n",
      "Description: For the user \"Stealth Inc.\", my girlfriend saying \"Coming soon\". Recorded with an AT2020 microphone into an Apogee Duet and edited with Record.\n",
      "Tags: request female girl talk vocal voice american woman english speak\n",
      "\n"
     ]
    }
   ],
   "source": [
    "# Get sound info example\n",
    "print(\"Sound info:\")\n",
    "print(\"-----------\")\n",
    "sound = client.get_sound(96541)\n",
    "print(\"Getting sound:\", sound.name)\n",
    "print(\"Url:\", sound.url)\n",
    "print(\"Description:\", sound.description)\n",
    "print(\"Tags:\", \" \".join(sound.tags))\n",
    "print()"
   ]
  },
  {
   "cell_type": "markdown",
   "metadata": {},
   "source": [
    "# About the data:\n",
    "For this project, we are going to use data uploaded by the Music Technology Group (MTG) of the Universitat Pompeu Fabra in Barcelona. Each sound is roughly 5 seconds of a single instrument playing either notes or scales with different dynamics. We are going to iterate through the list of sounds uploaded by the user MTG and retrieve information about the sounds"
   ]
  },
  {
   "cell_type": "code",
   "execution_count": 5,
   "metadata": {},
   "outputs": [],
   "source": [
    "# dir(user_sounds[0])\n",
    "\n",
    "def fs_download(sound):\n",
    "    \"\"\"For a given freesound sound object, download audio file + metadata + analysis\"\"\"\n",
    "    # basic info\n",
    "    sound_info = sound.as_dict()\n",
    "\n",
    "    # download sound:\n",
    "    # get basic info\n",
    "    # check if sound is in file system\n",
    "    # downloaded_sounds = [x[0] for x in os.walk(\"./freesound\")]\n",
    "    downloaded_sounds = []\n",
    "\n",
    "    for root, dirs, files in os.walk(\"./freesound\"):\n",
    "        for directory in dirs:\n",
    "            downloaded_sounds.append(directory)\n",
    "    # if in file_system:\n",
    "    if str(sound_info['id']) in downloaded_sounds:\n",
    "        # r\"C:\\Users\\{}\\Documents\\file.txt\".format(username)\n",
    "        # skip\n",
    "        print('folder already created. skipping')\n",
    "        pass\n",
    "    else:\n",
    "        # make directory\n",
    "        sound_dir = f\"./freesound/{sound_info['id']}\"\n",
    "        os.mkdir(sound_dir)\n",
    "        \n",
    "        # save basic info\n",
    "        info_pkl = f\"{sound_dir}/sound_metadata.pkl\"\n",
    "        with open(info_pkl, 'wb') as f:\n",
    "            pickle.dump(sound_info, f)\n",
    "        # save analysis\n",
    "        sound_analysis = sound.get_analysis().as_dict()\n",
    "        analysis_pkl = f\"{sound_dir}/sound_analysis.pkl\"\n",
    "        with open(analysis_pkl,'wb') as f:\n",
    "            pickle.dump(sound_analysis,f)\n",
    "            \n",
    "        # download\n",
    "        name_string = f\"{sound_info['name']}.{sound_info['type']}\"\n",
    "        name_string = name_string.replace('\\r', '')\n",
    "        sound.retrieve(directory=sound_dir,name = name_string)\n",
    "        "
   ]
  },
  {
   "cell_type": "markdown",
   "metadata": {},
   "source": [
    "Note that freesound API has a rate limit of 60 requests/minute and 5000 requests per 24 hours. So we can download a sample of the sounds in one day"
   ]
  },
  {
   "cell_type": "code",
   "execution_count": 6,
   "metadata": {},
   "outputs": [],
   "source": [
    "from requests_ratelimiter import LimiterSession\n",
    "\n",
    "# Apply a rate-limit (59 requests per minute) to all requests\n",
    "client.session = LimiterSession(per_minute=59)"
   ]
  },
  {
   "cell_type": "code",
   "execution_count": 7,
   "metadata": {},
   "outputs": [
    {
     "name": "stdout",
     "output_type": "stream",
     "text": [
      "8117\n"
     ]
    }
   ],
   "source": [
    "# for simplicity, lets start with all MTG sounds - very clean, usually single instruments\n",
    "# search for MTG\n",
    "user = client.get_user(\"MTG\")\n",
    "# print(dir(user))\n",
    "print(user.num_sounds)\n",
    "user_sounds = user.get_sounds(page_size = 100,fields = \"id,name,tags,created,license,type,channels,filesize,bitrate,bitdepth,duration,samplerate,username\",\n",
    "                              sort = 'rating_desc')\n"
   ]
  },
  {
   "cell_type": "markdown",
   "metadata": {},
   "source": [
    "We have 8117 sounds uploaded by the user. The sounds are presented in a freesound.pager object. The following code iterates through the pager object to download the sounds."
   ]
  },
  {
   "cell_type": "code",
   "execution_count": 8,
   "metadata": {},
   "outputs": [
    {
     "name": "stdout",
     "output_type": "stream",
     "text": [
      "812\n"
     ]
    }
   ],
   "source": [
    "num_pages = user.num_sounds // 10 + 1\n",
    "print(num_pages)\n",
    "# num_pages = 2 # temp for testing"
   ]
  },
  {
   "cell_type": "code",
   "execution_count": 9,
   "metadata": {},
   "outputs": [
    {
     "name": "stdout",
     "output_type": "stream",
     "text": [
      "\t- Happy 15th birthday Freesound! by MTG tags ['synthetized', 'Freesound15Years', 'voice-synthesis', 'voctrolabs', 'happy-birthday', 'choir', 'birthday', 'freesound', 'mtg']\n",
      "folder already created. skipping\n",
      "\t- Flute - G5 - other by MTG tags ['G5', 'flute', 'neumann-U87', 'multisample', 'single-note', 'good-sounds']\n",
      "folder already created. skipping\n",
      "\t- Flute - D#4 - bad-stability-timbre by MTG tags ['flute', 'Dsharp4', 'neumann-U87', 'multisample', 'single-note', 'good-sounds']\n",
      "folder already created. skipping\n",
      "\t- Flute - C5 - bad-richness by MTG tags ['good-sounds', 'C5', 'single-note', 'multisample', 'neumann-U87', 'flute']\n",
      "folder already created. skipping\n",
      "\t- Flute - F#6 - bad-stability-pitch by MTG tags ['Fsharp6', 'flute', 'neumann-U87', 'multisample', 'single-note', 'good-sounds']\n",
      "folder already created. skipping\n",
      "\t- Flute - C#5 - bad-stability-pitch by MTG tags ['Csharp5', 'flute', 'neumann-U87', 'multisample', 'single-note', 'good-sounds']\n",
      "folder already created. skipping\n",
      "\t- Flute - B5 - bad-stability-pitch by MTG tags ['good-sounds', 'single-note', 'multisample', 'neumann-U87', 'flute', 'B4']\n",
      "folder already created. skipping\n",
      "\t- Flute - G4 - bad-stability-dynamics by MTG tags ['G4', 'flute', 'neumann-U87', 'multisample', 'single-note', 'good-sounds']\n",
      "folder already created. skipping\n",
      "\t- Sax Baritone - C#3 by MTG tags ['baritone', 'Csharp3', 'neumann-U87', 'sax', 'multisample', 'single-note', 'good-sounds']\n",
      "folder already created. skipping\n",
      "\t- Sax Baritone - C3 by MTG tags ['baritone', 'neumann-U87', 'sax', 'multisample', 'C3', 'single-note', 'good-sounds']\n",
      "folder already created. skipping\n",
      "\t- Sax Baritone - A3 by MTG tags ['baritone', 'neumann-U87', 'A3', 'sax', 'multisample', 'single-note', 'good-sounds']\n",
      "folder already created. skipping\n",
      "\t- Sax Baritone - G#3 by MTG tags ['baritone', 'neumann-U87', 'sax', 'multisample', 'Gsharp3', 'single-note', 'good-sounds']\n",
      "folder already created. skipping\n",
      "\t- Sax Baritone - G3 by MTG tags ['baritone', 'neumann-U87', 'sax', 'multisample', 'G3', 'single-note', 'good-sounds']\n",
      "folder already created. skipping\n",
      "\t- Sax Baritone - F#3 by MTG tags ['baritone', 'Fsharp3', 'neumann-U87', 'sax', 'multisample', 'single-note', 'good-sounds']\n",
      "folder already created. skipping\n",
      "\t- Sax Baritone - F3 by MTG tags ['F3', 'baritone', 'neumann-U87', 'sax', 'multisample', 'single-note', 'good-sounds']\n",
      "folder already created. skipping\n",
      "\t- Sax Baritone - E3 by MTG tags ['baritone', 'neumann-U87', 'sax', 'multisample', 'single-note', 'E3', 'good-sounds']\n",
      "folder already created. skipping\n",
      "\t- Sax Baritone - D#3 by MTG tags ['baritone', 'Dsharp3', 'neumann-U87', 'sax', 'multisample', 'single-note', 'good-sounds']\n",
      "folder already created. skipping\n",
      "\t- Sax Baritone - D3 by MTG tags ['baritone', 'neumann-U87', 'sax', 'multisample', 'single-note', 'D3', 'good-sounds']\n",
      "folder already created. skipping\n",
      "\t- Sax Baritone - C#3 by MTG tags ['baritone', 'Csharp3', 'neumann-U87', 'sax', 'multisample', 'single-note', 'good-sounds']\n",
      "folder already created. skipping\n",
      "\t- Sax Baritone - C3 by MTG tags ['baritone', 'neumann-U87', 'sax', 'multisample', 'C3', 'single-note', 'good-sounds']\n",
      "folder already created. skipping\n",
      "\t- Sax Baritone - B2 - bad-richness by MTG tags ['baritone', 'B2', 'neumann-U87', 'sax', 'multisample', 'single-note', 'good-sounds']\n",
      "folder already created. skipping\n",
      "\t- Sax Baritone - A#2 - bad-richness by MTG tags ['baritone', 'neumann-U87', 'sax', 'Asharp2', 'multisample', 'single-note', 'good-sounds']\n",
      "folder already created. skipping\n",
      "\t- Sax Baritone - A2 - bad-richness by MTG tags ['baritone', 'neumann-U87', 'sax', 'multisample', 'single-note', 'A2', 'good-sounds']\n",
      "folder already created. skipping\n",
      "\t- Sax Baritone - G#2 - bad-richness by MTG tags ['baritone', 'neumann-U87', 'Gsharp2', 'sax', 'multisample', 'single-note', 'good-sounds']\n",
      "folder already created. skipping\n",
      "\t- Sax Baritone - G2 - bad-richness by MTG tags ['baritone', 'G2', 'neumann-U87', 'sax', 'multisample', 'single-note', 'good-sounds']\n",
      "folder already created. skipping\n",
      "\t- Sax Baritone - F#2 - bad-richness by MTG tags ['baritone', 'Fsharp2', 'neumann-U87', 'sax', 'multisample', 'single-note', 'good-sounds']\n",
      "folder already created. skipping\n",
      "\t- Sax Baritone - F2 - bad-richness by MTG tags ['F2', 'baritone', 'neumann-U87', 'sax', 'multisample', 'single-note', 'good-sounds']\n",
      "folder already created. skipping\n",
      "\t- Sax Baritone - E2 - bad-richness by MTG tags ['baritone', 'neumann-U87', 'sax', 'multisample', 'single-note', 'E2', 'good-sounds']\n",
      "folder already created. skipping\n",
      "\t- Sax Baritone - D#2 - bad-richness by MTG tags ['baritone', 'Dsharp2', 'neumann-U87', 'sax', 'multisample', 'single-note', 'good-sounds']\n",
      "folder already created. skipping\n",
      "\t- Sax Baritone - D2 - bad-richness by MTG tags ['baritone', 'neumann-U87', 'sax', 'multisample', 'single-note', 'D2', 'good-sounds']\n",
      "folder already created. skipping\n",
      "\t- Sax Baritone - C#2 - bad-richness by MTG tags ['baritone', 'Csharp2', 'neumann-U87', 'sax', 'multisample', 'single-note', 'good-sounds']\n",
      "folder already created. skipping\n",
      "\t- Sax Baritone - C2 - bad-richness by MTG tags ['baritone', 'neumann-U87', 'sax', 'multisample', 'C2', 'single-note', 'good-sounds']\n",
      "folder already created. skipping\n",
      "\t- Sax Baritone - A3 - bad-richness by MTG tags ['baritone', 'neumann-U87', 'A3', 'sax', 'multisample', 'single-note', 'good-sounds']\n",
      "folder already created. skipping\n",
      "\t- Sax Baritone - G#3 - bad-richness by MTG tags ['baritone', 'neumann-U87', 'sax', 'multisample', 'Gsharp3', 'single-note', 'good-sounds']\n",
      "folder already created. skipping\n",
      "\t- Sax Baritone - G3 - bad-richness by MTG tags ['baritone', 'neumann-U87', 'sax', 'multisample', 'G3', 'single-note', 'good-sounds']\n",
      "folder already created. skipping\n",
      "\t- Sax Baritone - F#3 - bad-richness by MTG tags ['baritone', 'Fsharp3', 'neumann-U87', 'sax', 'multisample', 'single-note', 'good-sounds']\n",
      "folder already created. skipping\n",
      "\t- Sax Baritone - F3 - bad-richness by MTG tags ['F3', 'baritone', 'neumann-U87', 'sax', 'multisample', 'single-note', 'good-sounds']\n",
      "folder already created. skipping\n",
      "\t- Sax Baritone - E3 - bad-richness by MTG tags ['baritone', 'neumann-U87', 'sax', 'multisample', 'single-note', 'E3', 'good-sounds']\n",
      "folder already created. skipping\n",
      "\t- Sax Baritone - D#3 - bad-richness by MTG tags ['baritone', 'Dsharp3', 'neumann-U87', 'sax', 'multisample', 'single-note', 'good-sounds']\n",
      "folder already created. skipping\n",
      "\t- Sax Baritone - D3 - bad-richness by MTG tags ['baritone', 'neumann-U87', 'sax', 'multisample', 'single-note', 'D3', 'good-sounds']\n",
      "folder already created. skipping\n",
      "\t- Sax Baritone - C#3 - bad-richness by MTG tags ['baritone', 'Csharp3', 'neumann-U87', 'sax', 'multisample', 'single-note', 'good-sounds']\n",
      "folder already created. skipping\n",
      "\t- Sax Baritone - C3 - bad-richness by MTG tags ['baritone', 'neumann-U87', 'sax', 'multisample', 'C3', 'single-note', 'good-sounds']\n",
      "folder already created. skipping\n",
      "\t- Sax Baritone - B2 - bad-richness by MTG tags ['baritone', 'B2', 'neumann-U87', 'sax', 'multisample', 'single-note', 'good-sounds']\n",
      "folder already created. skipping\n",
      "\t- Sax Baritone - A#2 - bad-richness by MTG tags ['baritone', 'neumann-U87', 'sax', 'Asharp2', 'multisample', 'single-note', 'good-sounds']\n",
      "folder already created. skipping\n",
      "\t- Sax Baritone - A2 - bad-richness by MTG tags ['baritone', 'neumann-U87', 'sax', 'multisample', 'single-note', 'A2', 'good-sounds']\n",
      "folder already created. skipping\n",
      "\t- Sax Baritone - G#2 - bad-richness by MTG tags ['baritone', 'neumann-U87', 'Gsharp2', 'sax', 'multisample', 'single-note', 'good-sounds']\n",
      "folder already created. skipping\n",
      "\t- Sax Baritone - G2 - bad-richness by MTG tags ['baritone', 'G2', 'neumann-U87', 'sax', 'multisample', 'single-note', 'good-sounds']\n",
      "folder already created. skipping\n",
      "\t- Sax Baritone - F#2 - bad-richness by MTG tags ['baritone', 'Fsharp2', 'neumann-U87', 'sax', 'multisample', 'single-note', 'good-sounds']\n",
      "folder already created. skipping\n",
      "\t- Sax Baritone - F2 - bad-richness by MTG tags ['F2', 'baritone', 'neumann-U87', 'sax', 'multisample', 'single-note', 'good-sounds']\n",
      "folder already created. skipping\n",
      "\t- Sax Baritone - E2 - bad-richness by MTG tags ['baritone', 'neumann-U87', 'sax', 'multisample', 'single-note', 'E2', 'good-sounds']\n",
      "folder already created. skipping\n",
      "\t- Sax Baritone - D#2 - bad-richness by MTG tags ['baritone', 'Dsharp2', 'neumann-U87', 'sax', 'multisample', 'single-note', 'good-sounds']\n",
      "folder already created. skipping\n",
      "\t- Sax Baritone - D2 - bad-richness by MTG tags ['baritone', 'neumann-U87', 'sax', 'multisample', 'single-note', 'D2', 'good-sounds']\n",
      "folder already created. skipping\n",
      "\t- Sax Baritone - C#2 - bad-richness by MTG tags ['baritone', 'Csharp2', 'neumann-U87', 'sax', 'multisample', 'single-note', 'good-sounds']\n",
      "folder already created. skipping\n",
      "\t- Sax Baritone - C2 - bad-richness by MTG tags ['baritone', 'neumann-U87', 'sax', 'multisample', 'C2', 'single-note', 'good-sounds']\n",
      "folder already created. skipping\n",
      "\t- Sax Baritone - A3 - bad-attack by MTG tags ['baritone', 'neumann-U87', 'A3', 'sax', 'multisample', 'single-note', 'good-sounds']\n",
      "folder already created. skipping\n",
      "\t- Sax Baritone - G#3 - bad-attack by MTG tags ['baritone', 'neumann-U87', 'sax', 'multisample', 'Gsharp3', 'single-note', 'good-sounds']\n",
      "folder already created. skipping\n",
      "\t- Sax Baritone - G3 - bad-attack by MTG tags ['baritone', 'neumann-U87', 'sax', 'multisample', 'G3', 'single-note', 'good-sounds']\n",
      "folder already created. skipping\n",
      "\t- Sax Baritone - F#3 - bad-attack by MTG tags ['baritone', 'Fsharp3', 'neumann-U87', 'sax', 'multisample', 'single-note', 'good-sounds']\n",
      "folder already created. skipping\n",
      "\t- Sax Baritone - F3 - bad-attack by MTG tags ['F3', 'baritone', 'neumann-U87', 'sax', 'multisample', 'single-note', 'good-sounds']\n",
      "folder already created. skipping\n",
      "\t- Sax Baritone - E3 - bad-attack by MTG tags ['baritone', 'neumann-U87', 'sax', 'multisample', 'single-note', 'E3', 'good-sounds']\n",
      "folder already created. skipping\n",
      "\t- Sax Baritone - D#3 - bad-attack by MTG tags ['baritone', 'Dsharp3', 'neumann-U87', 'sax', 'multisample', 'single-note', 'good-sounds']\n",
      "folder already created. skipping\n",
      "\t- Sax Baritone - D3 - bad-attack by MTG tags ['baritone', 'neumann-U87', 'sax', 'multisample', 'single-note', 'D3', 'good-sounds']\n",
      "folder already created. skipping\n",
      "\t- Sax Baritone - C#3 - bad-attack by MTG tags ['baritone', 'Csharp3', 'neumann-U87', 'sax', 'multisample', 'single-note', 'good-sounds']\n",
      "folder already created. skipping\n",
      "\t- Sax Baritone - C3 - bad-attack by MTG tags ['baritone', 'neumann-U87', 'sax', 'multisample', 'C3', 'single-note', 'good-sounds']\n",
      "folder already created. skipping\n",
      "\t- Sax Baritone - B2 - bad-attack by MTG tags ['baritone', 'B2', 'neumann-U87', 'sax', 'multisample', 'single-note', 'good-sounds']\n",
      "folder already created. skipping\n",
      "\t- Sax Baritone - A#2 - bad-attack by MTG tags ['baritone', 'neumann-U87', 'sax', 'Asharp2', 'multisample', 'single-note', 'good-sounds']\n",
      "folder already created. skipping\n",
      "\t- Sax Baritone - A2 - bad-attack by MTG tags ['baritone', 'neumann-U87', 'sax', 'multisample', 'single-note', 'A2', 'good-sounds']\n",
      "folder already created. skipping\n",
      "\t- Sax Baritone - G#2 - bad-attack by MTG tags ['baritone', 'neumann-U87', 'Gsharp2', 'sax', 'multisample', 'single-note', 'good-sounds']\n",
      "folder already created. skipping\n",
      "\t- Sax Baritone - G2 - bad-attack by MTG tags ['baritone', 'G2', 'neumann-U87', 'sax', 'multisample', 'single-note', 'good-sounds']\n",
      "folder already created. skipping\n",
      "\t- Sax Baritone - F#2 - bad-attack by MTG tags ['baritone', 'Fsharp2', 'neumann-U87', 'sax', 'multisample', 'single-note', 'good-sounds']\n",
      "folder already created. skipping\n",
      "\t- Sax Baritone - F2 - bad-attack by MTG tags ['F2', 'baritone', 'neumann-U87', 'sax', 'multisample', 'single-note', 'good-sounds']\n",
      "folder already created. skipping\n",
      "\t- Sax Baritone - E2 - bad-attack by MTG tags ['baritone', 'neumann-U87', 'sax', 'multisample', 'single-note', 'E2', 'good-sounds']\n",
      "folder already created. skipping\n",
      "\t- Sax Baritone - D#2 - bad-attack by MTG tags ['baritone', 'Dsharp2', 'neumann-U87', 'sax', 'multisample', 'single-note', 'good-sounds']\n",
      "folder already created. skipping\n",
      "\t- Sax Baritone - D2 - bad-attack by MTG tags ['baritone', 'neumann-U87', 'sax', 'multisample', 'single-note', 'D2', 'good-sounds']\n",
      "folder already created. skipping\n",
      "\t- Sax Baritone - C#2 - bad-attack by MTG tags ['baritone', 'Csharp2', 'neumann-U87', 'sax', 'multisample', 'single-note', 'good-sounds']\n",
      "folder already created. skipping\n",
      "\t- Sax Baritone - C2 - bad-attack by MTG tags ['baritone', 'neumann-U87', 'sax', 'multisample', 'C2', 'single-note', 'good-sounds']\n",
      "folder already created. skipping\n",
      "\t- Sax Baritone - A3 - bad-attack by MTG tags ['baritone', 'neumann-U87', 'A3', 'sax', 'multisample', 'single-note', 'good-sounds']\n",
      "folder already created. skipping\n",
      "\t- Sax Baritone - G#3 - bad-attack by MTG tags ['baritone', 'neumann-U87', 'sax', 'multisample', 'Gsharp3', 'single-note', 'good-sounds']\n",
      "folder already created. skipping\n",
      "\t- Sax Baritone - G3 - bad-attack by MTG tags ['baritone', 'neumann-U87', 'sax', 'multisample', 'G3', 'single-note', 'good-sounds']\n",
      "folder already created. skipping\n",
      "\t- Sax Baritone - F#3 - bad-attack by MTG tags ['baritone', 'Fsharp3', 'neumann-U87', 'sax', 'multisample', 'single-note', 'good-sounds']\n",
      "folder already created. skipping\n",
      "\t- Sax Baritone - F3 - bad-attack by MTG tags ['F3', 'baritone', 'neumann-U87', 'sax', 'multisample', 'single-note', 'good-sounds']\n",
      "folder already created. skipping\n",
      "\t- Sax Baritone - E3 - bad-attack by MTG tags ['baritone', 'neumann-U87', 'sax', 'multisample', 'single-note', 'E3', 'good-sounds']\n",
      "folder already created. skipping\n",
      "\t- Sax Baritone - D#3 - bad-attack by MTG tags ['baritone', 'Dsharp3', 'neumann-U87', 'sax', 'multisample', 'single-note', 'good-sounds']\n",
      "folder already created. skipping\n",
      "\t- Sax Baritone - D3 - bad-attack by MTG tags ['baritone', 'neumann-U87', 'sax', 'multisample', 'single-note', 'D3', 'good-sounds']\n",
      "folder already created. skipping\n",
      "\t- Sax Baritone - C#3 - bad-attack by MTG tags ['baritone', 'Csharp3', 'neumann-U87', 'sax', 'multisample', 'single-note', 'good-sounds']\n",
      "folder already created. skipping\n",
      "\t- Sax Baritone - C3 - bad-attack by MTG tags ['baritone', 'neumann-U87', 'sax', 'multisample', 'C3', 'single-note', 'good-sounds']\n",
      "folder already created. skipping\n",
      "\t- Sax Baritone - B2 - bad-attack by MTG tags ['baritone', 'B2', 'neumann-U87', 'sax', 'multisample', 'single-note', 'good-sounds']\n"
     ]
    },
    {
     "ename": "KeyboardInterrupt",
     "evalue": "",
     "output_type": "error",
     "traceback": [
      "\u001b[1;31m---------------------------------------------------------------------------\u001b[0m",
      "\u001b[1;31mStopIteration\u001b[0m                             Traceback (most recent call last)",
      "File \u001b[1;32m~\\.pyenv\\pyenv-win\\versions\\3.9.13\\lib\\os.py:367\u001b[0m, in \u001b[0;36m_walk\u001b[1;34m(top, topdown, onerror, followlinks)\u001b[0m\n\u001b[0;32m    366\u001b[0m \u001b[38;5;28;01mtry\u001b[39;00m:\n\u001b[1;32m--> 367\u001b[0m     entry \u001b[38;5;241m=\u001b[39m \u001b[38;5;28;43mnext\u001b[39;49m\u001b[43m(\u001b[49m\u001b[43mscandir_it\u001b[49m\u001b[43m)\u001b[49m\n\u001b[0;32m    368\u001b[0m \u001b[38;5;28;01mexcept\u001b[39;00m \u001b[38;5;167;01mStopIteration\u001b[39;00m:\n",
      "\u001b[1;31mStopIteration\u001b[0m: ",
      "\nDuring handling of the above exception, another exception occurred:\n",
      "\u001b[1;31mKeyboardInterrupt\u001b[0m                         Traceback (most recent call last)",
      "Cell \u001b[1;32mIn[9], line 5\u001b[0m\n\u001b[0;32m      3\u001b[0m \u001b[38;5;28;01mfor\u001b[39;00m sound \u001b[38;5;129;01min\u001b[39;00m user_sounds:\n\u001b[0;32m      4\u001b[0m     \u001b[38;5;28mprint\u001b[39m(\u001b[38;5;124m\"\u001b[39m\u001b[38;5;130;01m\\t\u001b[39;00m\u001b[38;5;124m-\u001b[39m\u001b[38;5;124m\"\u001b[39m, sound\u001b[38;5;241m.\u001b[39mname, \u001b[38;5;124m\"\u001b[39m\u001b[38;5;124mby\u001b[39m\u001b[38;5;124m\"\u001b[39m, sound\u001b[38;5;241m.\u001b[39musername, \u001b[38;5;124m\"\u001b[39m\u001b[38;5;124mtags\u001b[39m\u001b[38;5;124m\"\u001b[39m, sound\u001b[38;5;241m.\u001b[39mtags)\n\u001b[1;32m----> 5\u001b[0m     \u001b[43mfs_download\u001b[49m\u001b[43m(\u001b[49m\u001b[43msound\u001b[49m\u001b[43m)\u001b[49m\n\u001b[0;32m      6\u001b[0m time\u001b[38;5;241m.\u001b[39msleep(\u001b[38;5;241m5\u001b[39m)\n\u001b[0;32m      7\u001b[0m tries \u001b[38;5;241m=\u001b[39m \u001b[38;5;241m0\u001b[39m\n",
      "Cell \u001b[1;32mIn[5], line 14\u001b[0m, in \u001b[0;36mfs_download\u001b[1;34m(sound)\u001b[0m\n\u001b[0;32m      8\u001b[0m \u001b[38;5;66;03m# download sound:\u001b[39;00m\n\u001b[0;32m      9\u001b[0m \u001b[38;5;66;03m# get basic info\u001b[39;00m\n\u001b[0;32m     10\u001b[0m \u001b[38;5;66;03m# check if sound is in file system\u001b[39;00m\n\u001b[0;32m     11\u001b[0m \u001b[38;5;66;03m# downloaded_sounds = [x[0] for x in os.walk(\"./freesound\")]\u001b[39;00m\n\u001b[0;32m     12\u001b[0m downloaded_sounds \u001b[38;5;241m=\u001b[39m []\n\u001b[1;32m---> 14\u001b[0m \u001b[38;5;28;01mfor\u001b[39;00m root, dirs, files \u001b[38;5;129;01min\u001b[39;00m os\u001b[38;5;241m.\u001b[39mwalk(\u001b[38;5;124m\"\u001b[39m\u001b[38;5;124m./freesound\u001b[39m\u001b[38;5;124m\"\u001b[39m):\n\u001b[0;32m     15\u001b[0m     \u001b[38;5;28;01mfor\u001b[39;00m directory \u001b[38;5;129;01min\u001b[39;00m dirs:\n\u001b[0;32m     16\u001b[0m         downloaded_sounds\u001b[38;5;241m.\u001b[39mappend(directory)\n",
      "File \u001b[1;32m~\\.pyenv\\pyenv-win\\versions\\3.9.13\\lib\\os.py:418\u001b[0m, in \u001b[0;36m_walk\u001b[1;34m(top, topdown, onerror, followlinks)\u001b[0m\n\u001b[0;32m    413\u001b[0m         \u001b[38;5;66;03m# Issue #23605: os.path.islink() is used instead of caching\u001b[39;00m\n\u001b[0;32m    414\u001b[0m         \u001b[38;5;66;03m# entry.is_symlink() result during the loop on os.scandir() because\u001b[39;00m\n\u001b[0;32m    415\u001b[0m         \u001b[38;5;66;03m# the caller can replace the directory entry during the \"yield\"\u001b[39;00m\n\u001b[0;32m    416\u001b[0m         \u001b[38;5;66;03m# above.\u001b[39;00m\n\u001b[0;32m    417\u001b[0m         \u001b[38;5;28;01mif\u001b[39;00m followlinks \u001b[38;5;129;01mor\u001b[39;00m \u001b[38;5;129;01mnot\u001b[39;00m islink(new_path):\n\u001b[1;32m--> 418\u001b[0m             \u001b[38;5;28;01myield from\u001b[39;00m _walk(new_path, topdown, onerror, followlinks)\n\u001b[0;32m    419\u001b[0m \u001b[38;5;28;01melse\u001b[39;00m:\n\u001b[0;32m    420\u001b[0m     \u001b[38;5;66;03m# Recurse into sub-directories\u001b[39;00m\n\u001b[0;32m    421\u001b[0m     \u001b[38;5;28;01mfor\u001b[39;00m new_path \u001b[38;5;129;01min\u001b[39;00m walk_dirs:\n",
      "File \u001b[1;32m~\\.pyenv\\pyenv-win\\versions\\3.9.13\\lib\\os.py:367\u001b[0m, in \u001b[0;36m_walk\u001b[1;34m(top, topdown, onerror, followlinks)\u001b[0m\n\u001b[0;32m    365\u001b[0m \u001b[38;5;28;01mtry\u001b[39;00m:\n\u001b[0;32m    366\u001b[0m     \u001b[38;5;28;01mtry\u001b[39;00m:\n\u001b[1;32m--> 367\u001b[0m         entry \u001b[38;5;241m=\u001b[39m \u001b[38;5;28;43mnext\u001b[39;49m\u001b[43m(\u001b[49m\u001b[43mscandir_it\u001b[49m\u001b[43m)\u001b[49m\n\u001b[0;32m    368\u001b[0m     \u001b[38;5;28;01mexcept\u001b[39;00m \u001b[38;5;167;01mStopIteration\u001b[39;00m:\n\u001b[0;32m    369\u001b[0m         \u001b[38;5;28;01mbreak\u001b[39;00m\n",
      "\u001b[1;31mKeyboardInterrupt\u001b[0m: "
     ]
    }
   ],
   "source": [
    "page_num = 1\n",
    "while page_num < num_pages:\n",
    "    for sound in user_sounds:\n",
    "        print(\"\\t-\", sound.name, \"by\", sound.username, \"tags\", sound.tags)\n",
    "        fs_download(sound)\n",
    "    time.sleep(5)\n",
    "    tries = 0\n",
    "    while tries < 10:\n",
    "        try:\n",
    "            user_sounds = user_sounds.next_page()\n",
    "            tries = 10\n",
    "        except freesound.FreesoundException as e:\n",
    "            print('bad gateway, trying again')\n",
    "            tries += 1\n",
    "            time.sleep(3)\n",
    "    \n",
    "    # increment page\n",
    "    page_num += 1"
   ]
  },
  {
   "cell_type": "code",
   "execution_count": null,
   "metadata": {},
   "outputs": [],
   "source": [
    "# audit\n",
    "# next steps:\n",
    "# add relevant directories to gitignore\n",
    "# add git ignore file to github dknapp17/audio_ML\n",
    "# manually add config and notebooks and requirements.txt to github\n",
    "# write out workflow for freesound API and running freesound notebook\n",
    "# document notebook, add cool visuals\n",
    "# resubmit to github"
   ]
  }
 ],
 "metadata": {
  "kernelspec": {
   "display_name": "Python 3",
   "language": "python",
   "name": "python3"
  },
  "language_info": {
   "codemirror_mode": {
    "name": "ipython",
    "version": 3
   },
   "file_extension": ".py",
   "mimetype": "text/x-python",
   "name": "python",
   "nbconvert_exporter": "python",
   "pygments_lexer": "ipython3",
   "version": "3.9.13"
  }
 },
 "nbformat": 4,
 "nbformat_minor": 2
}
